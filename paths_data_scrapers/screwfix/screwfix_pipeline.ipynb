{
 "cells": [
  {
   "cell_type": "code",
   "execution_count": 5,
   "metadata": {},
   "outputs": [],
   "source": [
    "cookies = {\n",
    "    'rxVisitor': '1705589577116OD0KTOF69LFC8NAD4O12DU3K4CTKAMBA',\n",
    "    'isPIIMasked': 'true',\n",
    "    'notice_behavior': 'expressed,eu',\n",
    "    'TAconsentID': '006740bd-0659-450f-975f-429480d5ba43',\n",
    "    'notice_gdpr_prefs': '0,1,2,3,4:',\n",
    "    'cmapi_cookie_privacy': 'permit 1,2,3,4,5',\n",
    "    'cmapi_gtm_bl': '',\n",
    "    'notice_preferences': '4:',\n",
    "    'optimizelyEndUserId': 'oeu1711225018302r0.1009099587559974',\n",
    "    'BVBRANDID': 'ed9f143e-934e-4810-8d01-655a4775489f',\n",
    "    'BVImplmain_site': '22465',\n",
    "    '_cs_c': '0',\n",
    "    'dtSa': '-',\n",
    "    '_gcl_au': '1.1.2070937689.1716155690',\n",
    "    '_br_uid_2': 'uid%3D8496505246673%3Av%3D13.0%3Ats%3D1714604218484%3Ahc%3D11',\n",
    "    '_gid': 'GA1.2.515342875.1717864942',\n",
    "    'JSESSIONID': 'oMj9fDrPbl4pRt2SKRdqpdee6Wxxc93ozDT2FaDI39QqjLH06_Af!-1817413603',\n",
    "    '__Host-fusionx.sid': 's%3ASok0XBv7k-wfVZ5VF1zQeqqFpiEf92PN.AAjl7qw3t3UKmfkpW8WiJngC7LkumbeMj7BY04wb%2BgE',\n",
    "    'unsupported_browser': 'false',\n",
    "    'atgUserId': '19497373480',\n",
    "    '_cs_mk': '0.8397070934624757_1717944730612',\n",
    "    'prevPageName': 'lister Page',\n",
    "    'TAsessionID': '62372464-c8ab-4bda-898e-bced3ac0a077|EXISTING',\n",
    "    'prevPageURL': 'https://www.screwfix.com/c/tools/cutting-blades/cat5970020?page_size=100&page_start=100',\n",
    "    '_cs_id': '079c4917-fbc4-a539-e9b4-8a410d43ce56.1714604218.9.1717944756.1717944730.1714471116.1748768218469.1',\n",
    "    '_cs_s': '2.0.0.1717946556559',\n",
    "    '_ga': 'GA1.2.2041396375.1714604219',\n",
    "    'utag_main': 'v_id:018f366014d000195bbf05b2a2b30506f006a06700bd0$_sn:8$_se:11$_ss:0$_st:1717946592920$dc_visit:8$ses_id:1717944729503%3Bexp-session$_pn:2%3Bexp-session$dc_event:2%3Bexp-session$dc_region:eu-west-1%3Bexp-session',\n",
    "    '_gat_gtag_UA_4391415_14': '1',\n",
    "    '_ga_74MS9KFBCG': 'GS1.1.1717944730.9.1.1717944792.60.0.0',\n",
    "    'dtCookie': 'v_4_srv_3_sn_2BD84D4621746E725C6F4830152FFA74_perc_100000_ol_0_mul_1_app-3Ac4f0aebc3d79082a_1',\n",
    "    'BIGipServersfx.com_HTTPS_Pool': '!xVVAUp3nBxIq274hzigAvZh24GpMF7VQss8qAAaVKDiuxX+K0fm5b9oW4rOAMPFeuYBB0pLYxAJ52g==',\n",
    "    'rxvt': '1717946615896|1717944729164',\n",
    "    'dtPC': '3$144754650_156h48vPPFJSKWLNMOICPFGIMMIJVREANAPMPDH-0e0',\n",
    "}\n",
    "\n",
    "headers = {\n",
    "    'accept': '*/*',\n",
    "    'accept-language': 'en-GB,en;q=0.9,en-US;q=0.8,pl;q=0.7,nl;q=0.6',\n",
    "    'authorization': 'eyJvcmciOiI2MGFlMTA0ZGVjM2M1ZjAwMDFkMjYxYTkiLCJpZCI6IjU3OTZiYWJkMmUwMDQ0Zjc4ODJjZDgwYWM3YWY5ZmMxIiwiaCI6Im11cm11cjEyOCJ9',\n",
    "    'cache-control': 'no-cache',\n",
    "    # 'cookie': 'rxVisitor=1705589577116OD0KTOF69LFC8NAD4O12DU3K4CTKAMBA; isPIIMasked=true; notice_behavior=expressed,eu; TAconsentID=006740bd-0659-450f-975f-429480d5ba43; notice_gdpr_prefs=0,1,2,3,4:; cmapi_cookie_privacy=permit 1,2,3,4,5; cmapi_gtm_bl=; notice_preferences=4:; optimizelyEndUserId=oeu1711225018302r0.1009099587559974; BVBRANDID=ed9f143e-934e-4810-8d01-655a4775489f; BVImplmain_site=22465; _cs_c=0; dtSa=-; _gcl_au=1.1.2070937689.1716155690; _br_uid_2=uid%3D8496505246673%3Av%3D13.0%3Ats%3D1714604218484%3Ahc%3D11; _gid=GA1.2.515342875.1717864942; JSESSIONID=oMj9fDrPbl4pRt2SKRdqpdee6Wxxc93ozDT2FaDI39QqjLH06_Af!-1817413603; __Host-fusionx.sid=s%3ASok0XBv7k-wfVZ5VF1zQeqqFpiEf92PN.AAjl7qw3t3UKmfkpW8WiJngC7LkumbeMj7BY04wb%2BgE; unsupported_browser=false; atgUserId=19497373480; _cs_mk=0.8397070934624757_1717944730612; prevPageName=lister Page; TAsessionID=62372464-c8ab-4bda-898e-bced3ac0a077|EXISTING; prevPageURL=https://www.screwfix.com/c/tools/cutting-blades/cat5970020?page_size=100&page_start=100; _cs_id=079c4917-fbc4-a539-e9b4-8a410d43ce56.1714604218.9.1717944756.1717944730.1714471116.1748768218469.1; _cs_s=2.0.0.1717946556559; _ga=GA1.2.2041396375.1714604219; utag_main=v_id:018f366014d000195bbf05b2a2b30506f006a06700bd0$_sn:8$_se:11$_ss:0$_st:1717946592920$dc_visit:8$ses_id:1717944729503%3Bexp-session$_pn:2%3Bexp-session$dc_event:2%3Bexp-session$dc_region:eu-west-1%3Bexp-session; _gat_gtag_UA_4391415_14=1; _ga_74MS9KFBCG=GS1.1.1717944730.9.1.1717944792.60.0.0; dtCookie=v_4_srv_3_sn_2BD84D4621746E725C6F4830152FFA74_perc_100000_ol_0_mul_1_app-3Ac4f0aebc3d79082a_1; BIGipServersfx.com_HTTPS_Pool=!xVVAUp3nBxIq274hzigAvZh24GpMF7VQss8qAAaVKDiuxX+K0fm5b9oW4rOAMPFeuYBB0pLYxAJ52g==; rxvt=1717946615896|1717944729164; dtPC=3$144754650_156h48vPPFJSKWLNMOICPFGIMMIJVREANAPMPDH-0e0',\n",
    "    'pragma': 'no-cache',\n",
    "    'priority': 'u=1, i',\n",
    "    'referer': 'https://www.screwfix.com/c/tools/cutting-blades/cat5970020?page_size=100&page_start=100',\n",
    "    'sec-ch-ua': '\"Google Chrome\";v=\"125\", \"Chromium\";v=\"125\", \"Not.A/Brand\";v=\"24\"',\n",
    "    'sec-ch-ua-mobile': '?0',\n",
    "    'sec-ch-ua-platform': '\"Windows\"',\n",
    "    'sec-fetch-dest': 'empty',\n",
    "    'sec-fetch-mode': 'cors',\n",
    "    'sec-fetch-site': 'same-origin',\n",
    "    'traceparent': '00-5d47d7c106e74bd6b1dc9dc79206fda0-00f067aa0ba902b7-00',\n",
    "    'user-agent': 'Mozilla/5.0 (Windows NT 10.0; Win64; x64) AppleWebKit/537.36 (KHTML, like Gecko) Chrome/125.0.0.0 Safari/537.36',\n",
    "    'x-dtpc': '3$144754650_156h48vPPFJSKWLNMOICPFGIMMIJVREANAPMPDH-0e0',\n",
    "}\n"
   ]
  },
  {
   "cell_type": "code",
   "execution_count": 22,
   "metadata": {},
   "outputs": [
    {
     "name": "stderr",
     "output_type": "stream",
     "text": [
      "ERROR:root:HTTP error occurred: 403 Client Error: Forbidden for url: https://www.screwfix.com/prod/ffx-browse-bff/v1/SFXUK/data/c/tools/cat830034?page_size=1&page_start=0\n"
     ]
    }
   ],
   "source": [
    "import time\n",
    "import random\n",
    "import requests\n",
    "import csv\n",
    "import json\n",
    "import logging\n",
    "from datetime import datetime\n",
    "\n",
    "\n",
    "def initial_request():\n",
    "    \"\"\"Make initial API request.\"\"\"\n",
    "    params = {\n",
    "        'page_size': '1',\n",
    "        'page_start': '0',\n",
    "    }\n",
    "\n",
    "    try:\n",
    "        time.sleep(random.uniform(5, 10))\n",
    "        response = requests.get(\n",
    "            f'https://www.screwfix.com/prod/ffx-browse-bff/v1/SFXUK/data/c/tools/cat830034',\n",
    "            params=params,\n",
    "            cookies=cookies,\n",
    "            headers=headers,\n",
    "        )\n",
    "        response.raise_for_status()  \n",
    "        return response\n",
    "    except requests.exceptions.HTTPError as http_err:\n",
    "        logging.error(f\"HTTP error occurred: {http_err}\")\n",
    "    except requests.exceptions.ConnectionError as conn_err:\n",
    "        logging.error(f\"Connection error occurred: {conn_err}\")\n",
    "    except requests.exceptions.Timeout as timeout_err:\n",
    "        logging.error(f\"The request timed out: {timeout_err}\")\n",
    "    except requests.exceptions.RequestException as err:\n",
    "        logging.error(f\"An error occurred while handling your request: {err}\")\n",
    "    return None  \n",
    "\n",
    "data = initial_request()"
   ]
  },
  {
   "cell_type": "code",
   "execution_count": 24,
   "metadata": {},
   "outputs": [
    {
     "name": "stderr",
     "output_type": "stream",
     "text": [
      "ERROR:root:Failed to fetch data or no response\n"
     ]
    },
    {
     "data": {
      "text/plain": [
       "(0, False)"
      ]
     },
     "execution_count": 24,
     "metadata": {},
     "output_type": "execute_result"
    }
   ],
   "source": [
    "def get_total_page_count(response):\n",
    "    \"\"\"Extract total page count from API response.\"\"\"\n",
    "    if response and response.status_code == 200:\n",
    "        try:\n",
    "            data = response.json()\n",
    "            if 'enrichedData' in data and 'totalProducts' in data['enrichedData']:\n",
    "                meta = data.get('enrichedData', {})\n",
    "                total_results = meta.get('totalProducts', None)\n",
    "                return total_results, True\n",
    "            else:\n",
    "                logging.error(\"Expected data not found in response\")\n",
    "                return 0, \"Expected data not found in response\"\n",
    "        except json.JSONDecodeError as e:\n",
    "            logging.error(\"JSON decode error: %s\", e)\n",
    "            return 0, str(e)\n",
    "        except Exception as e:\n",
    "            logging.error(\"An unexpected error occurred: %s\", e)\n",
    "            error_log.append({\n",
    "                \"Response\": str(response),\n",
    "                \"error\": str(e)\n",
    "            }) \n",
    "            return 0, str(e)\n",
    "    else:\n",
    "        logging.error(\"Failed to fetch data or no response\")\n",
    "        return 0, False\n",
    "\n",
    "get_total_page_count(data)"
   ]
  },
  {
   "cell_type": "code",
   "execution_count": 17,
   "metadata": {},
   "outputs": [
    {
     "name": "stdout",
     "output_type": "stream",
     "text": [
      "Category: Tools\n",
      "Subcategory: Angle grinder discs\n"
     ]
    }
   ],
   "source": [
    "import re\n",
    "\n",
    "def get_category_and_subcategory_from_url(url):\n",
    "    # Extract the relevant part of the URL\n",
    "    match = re.search(r'/c/([^/]+)/([^/]+)', url)\n",
    "    if match:\n",
    "        category = match.group(1).replace('-', ' ')\n",
    "        subcategory = match.group(2).replace('-', ' ')\n",
    "        return f\"Category: {category.capitalize()}\\nSubcategory: {subcategory.capitalize()}\"\n",
    "    return None\n",
    "\n",
    "url = 'https://www.screwfix.com/c/tools/angle-grinder-discs/cat5990032'\n",
    "result = get_category_and_subcategory_from_url(url)\n",
    "print(result)"
   ]
  }
 ],
 "metadata": {
  "kernelspec": {
   "display_name": "scrapers",
   "language": "python",
   "name": "python3"
  },
  "language_info": {
   "codemirror_mode": {
    "name": "ipython",
    "version": 3
   },
   "file_extension": ".py",
   "mimetype": "text/x-python",
   "name": "python",
   "nbconvert_exporter": "python",
   "pygments_lexer": "ipython3",
   "version": "3.12.4"
  }
 },
 "nbformat": 4,
 "nbformat_minor": 2
}
